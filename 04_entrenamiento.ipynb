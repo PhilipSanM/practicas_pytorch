{
 "cells": [
  {
   "cell_type": "markdown",
   "metadata": {},
   "source": [
    "Integrantes:\n",
    "\n",
    "* Flores Esquivel Luis Antonio\n",
    "* Hanna Gu\n",
    "* Palacios Elizondo Kevin\n",
    "* Sánchez Martinez Felipe\n",
    "* Santiago Morales Andrea Karina\n",
    "\n"
   ]
  },
  {
   "attachments": {},
   "cell_type": "markdown",
   "metadata": {},
   "source": [
    "# Entrenamiento de una red neuronal\n",
    "\n",
    "Al entrenar una red buscamos que ésta tenga un comportamiendo presumiblemente adecuado y observable en un conjunto de datos. Es decír a partir de los ejemplos esperamos que la red aprenda una función $f$ tal que la salida de la red imite el patrón en los datos. En nuestro caso, al utilizar el conjunto de entrenamiento MNIST esperamos que la función aprendida provea como salida el número al cual corresponde la imagen de entrada.\n",
    "\n",
    "En este notebook implementaremos el descenso por gradiente usnado pytorch para entrenar la red que ya codificamos en el ejercicio anterior. Consideramos que que nuesto notebook es correcto si es que mejoramos el desempeño de la red previo a que sea entrenada.\n",
    "\n",
    "Como ejemplo tenemos la figura siguiente, donde la entrada es una imagen en escala de grises y la salida es la clase '4' donde observamos que esa locación tiene la mayor probabilidad.\n",
    "\n",
    "<img src=\"archivos/function_approx.png\">\n",
    "\n",
    "Imagen tomada de [1]\n",
    "\n",
    "Instrucciones: completa el código donde aparece *TODO:* (Hacer en inglés)\n",
    "\n",
    "\n",
    "\n",
    "Si ejecutas en COLAB debes copiar los archivos extra de este repositorio.\n",
    "\n",
    "@juan1rving"
   ]
  },
  {
   "cell_type": "code",
   "execution_count": null,
   "metadata": {},
   "outputs": [],
   "source": []
  },
  {
   "attachments": {},
   "cell_type": "markdown",
   "metadata": {},
   "source": [
    "## Retropropagación y Autograd\n",
    "\n",
    "Pytorch provee el módulo *autograd* para calcular los gradientes, y si!, nos evita estar calculando las derivadas! Esto lo realiza a partir de mantener en la vista todas las operaciones que se ejecutan sobre los tensores.\n",
    "\n",
    "Si deseas asegurarte que autograd siga a un tensor especificamos *requires_grad*. Esto se puede hacer en la creación o en cualquier momento. \n",
    "\n",
    "Veamos el siguiente código de ejemplo:\n",
    "\n",
    "```python\n",
    "# especificamos que la variable x es seguida por autograd\n",
    "x = torch.zeros(1, requires_grad=True)\n",
    "# si en algún momento desamos que temporalmente se deje de seguir el tensor usamos\n",
    ">>> with torch.no_grad():\n",
    "...     y = x * 2\n",
    "# establecemos de nuevo el seguimiento\n",
    ">>> y.requires_grad\n",
    "```\n",
    "\n",
    "Si queremos eliminar autograd de todos los tensores usamos `torch.set_grad_enabled(True|False)`.\n",
    "\n",
    "Ahora bien, para calcular los gradientes simplemente usamos el método *backward()*. Por ejemplo para un tensor *cualquiera* hacemos *z.backward()*\n",
    "\n",
    "Veamos a continuación el uso del gradiente."
   ]
  },
  {
   "cell_type": "code",
   "execution_count": 1,
   "metadata": {},
   "outputs": [],
   "source": [
    "# importamos paquetes\n",
    "%matplotlib inline\n",
    "%config InlineBackend.figure_format = 'retina'\n",
    "\n",
    "from collections import OrderedDict\n",
    "\n",
    "import numpy as np\n",
    "import time\n",
    "\n",
    "import torch\n",
    "from torch import nn\n",
    "from torch import optim\n",
    "import torch.nn.functional as F\n",
    "\n",
    "import helper"
   ]
  },
  {
   "cell_type": "code",
   "execution_count": 2,
   "metadata": {},
   "outputs": [
    {
     "name": "stdout",
     "output_type": "stream",
     "text": [
      "tensor([ 0.4276,  0.9983, -0.3502,  0.0591], requires_grad=True)\n"
     ]
    }
   ],
   "source": [
    "# especificamos que el tensor x es seguido por autograd \n",
    "x = torch.randn(4, requires_grad=True)\n",
    "print(x)"
   ]
  },
  {
   "cell_type": "code",
   "execution_count": 3,
   "metadata": {},
   "outputs": [
    {
     "name": "stdout",
     "output_type": "stream",
     "text": [
      "tensor([0.1828, 0.9966, 0.1226, 0.0035], grad_fn=<PowBackward0>)\n"
     ]
    }
   ],
   "source": [
    "# generamos un nuevo tensor a partir de x\n",
    "# por ejemplo elevemos al cuadrado la variable x\n",
    "y = x**2\n",
    "print(y)"
   ]
  },
  {
   "cell_type": "code",
   "execution_count": 4,
   "metadata": {},
   "outputs": [
    {
     "name": "stdout",
     "output_type": "stream",
     "text": [
      "<PowBackward0 object at 0x00000242B28E5F40>\n"
     ]
    }
   ],
   "source": [
    "## con grad_fn observamos la operación que generó y, es decir una operación potencia (pow)\n",
    "print(y.grad_fn)\n"
   ]
  },
  {
   "cell_type": "code",
   "execution_count": 5,
   "metadata": {},
   "outputs": [
    {
     "name": "stdout",
     "output_type": "stream",
     "text": [
      "tensor(0.3264, grad_fn=<MeanBackward0>)\n"
     ]
    }
   ],
   "source": [
    "# De esta forma es posible saber las operaciónes que generan cada tensor, y por tanto, es posible calcular el gradiente.\n",
    "# Hagamos ahora una operación de media\n",
    "z = y.mean()\n",
    "print(z)"
   ]
  },
  {
   "cell_type": "code",
   "execution_count": 6,
   "metadata": {},
   "outputs": [
    {
     "name": "stdout",
     "output_type": "stream",
     "text": [
      "None\n"
     ]
    }
   ],
   "source": [
    "# hasta este momento los gradientes son cero\n",
    "print(x.grad)"
   ]
  },
  {
   "cell_type": "markdown",
   "metadata": {},
   "source": [
    "Para calcular los gradientes es necesario llamar al método *.backward* sobre la variable. Supongamos sobre *z*. Esto calcula el gradiente de z con respecto de x.\n",
    "\n",
    "El gradiente analítico de las operaciónes que hicimos es:\n",
    "$$\n",
    "\\frac{\\partial z}{\\partial x} = \\frac{\\partial}{\\partial x}\\left[\\frac{1}{n}\\sum_i^n x_i^2\\right] = \\frac{x}{2}\n",
    "$$\n",
    "\n",
    "Ahora comprobemos"
   ]
  },
  {
   "cell_type": "code",
   "execution_count": 7,
   "metadata": {},
   "outputs": [
    {
     "name": "stdout",
     "output_type": "stream",
     "text": [
      "tensor([ 0.2138,  0.4991, -0.1751,  0.0295])\n",
      "tensor([ 0.2138,  0.4991, -0.1751,  0.0295], grad_fn=<DivBackward0>)\n"
     ]
    }
   ],
   "source": [
    "z.backward()\n",
    "print(x.grad)\n",
    "\n",
    "print(x/2)"
   ]
  },
  {
   "cell_type": "markdown",
   "metadata": {},
   "source": [
    "## Conjunto de datos y red neuronal\n",
    "\n",
    "Ahora descargemos los datos y generemos una red tal cual lo vimos en el notebook anterior. "
   ]
  },
  {
   "cell_type": "code",
   "execution_count": 8,
   "metadata": {},
   "outputs": [],
   "source": [
    "from torchvision import datasets, transforms\n",
    "\n",
    "# Define a transform to normalize the data\n",
    "transform = transforms.Compose([transforms.ToTensor(),\n",
    "                                #transforms.Normalize((0.5, 0.5, 0.5), (0.5, 0.5, 0.5)),\n",
    "                                transforms.Normalize([0.5],[0.5])\n",
    "                             ])\n",
    "# Download and load the training data\n",
    "trainset = datasets.MNIST('MNIST_data/', download=True, train=True, transform=transform)\n",
    "trainloader = torch.utils.data.DataLoader(trainset, batch_size=64, shuffle=True)"
   ]
  },
  {
   "cell_type": "code",
   "execution_count": 9,
   "metadata": {},
   "outputs": [],
   "source": [
    "# Hyperparameters for our network\n",
    "input_size = 784\n",
    "hidden_sizes = [128, 64]\n",
    "output_size = 10\n",
    "\n",
    "# Build a feed-forward network\n",
    "model = nn.Sequential(OrderedDict([\n",
    "                      ('fc1', nn.Linear(input_size, hidden_sizes[0])),\n",
    "                      ('relu1', nn.ReLU()),\n",
    "                      ('fc2', nn.Linear(hidden_sizes[0], hidden_sizes[1])),\n",
    "                      ('relu2', nn.ReLU()),\n",
    "                      ('logits', nn.Linear(hidden_sizes[1], output_size))]))\n",
    "\n",
    "# NOTA solo calcularemos los logits y definiremos la perdida a partir de ellos"
   ]
  },
  {
   "cell_type": "markdown",
   "metadata": {},
   "source": [
    "## Entrenamiento de la red"
   ]
  },
  {
   "attachments": {},
   "cell_type": "markdown",
   "metadata": {},
   "source": [
    "Lo primero que definiremos será la función de pérdida (loss) que es nombrada en pytorch como **criterion**. En este ejemplo estamos utilizando softmax, asi que definimos el criterio como \n",
    "```\n",
    "criterion = nn.CrossEntropyLoss()\n",
    "```\n",
    "Más tarde, en el entrenamiento, veremos que *loss = criterion(output, targets)* calcula la pérdida.\n",
    "\n",
    "Lo segundo que definiremos será el optimizador, para este ejemplo usaremos SGD (stochastic gradient descent). Simplemente llamamos a *torch.optim.SGD* y le pasamos los parámetros de la red y el learning rate. La instrucción implementada se verá algo como lo siguiente: \n",
    "```\n",
    "optimizer = optim.SGD(model.parameters(), lr=0.01)\n",
    "```"
   ]
  },
  {
   "cell_type": "code",
   "execution_count": 10,
   "metadata": {},
   "outputs": [],
   "source": [
    "# TODO: Define la pérdida \n",
    "criterion = nn.CrossEntropyLoss()\n",
    "optimizer = optim.SGD(model.parameters(), lr = 0.01)"
   ]
  },
  {
   "attachments": {},
   "cell_type": "markdown",
   "metadata": {},
   "source": [
    "Antes de realizar el entrenamiento completo haremos un paso del aprendizaje. Este paso se compone de las siguientes tareas:\n",
    "\n",
    "1. Realizar un pase frontal de la red\n",
    "2. Utilizar los logits para calcular la pérdida\n",
    "3. Realizar la retropropagación para calcular los gradientes.\n",
    "4. Actualizar los pesos usando el optimizador.\n",
    "\n",
    "Veamos el ejemplo\n"
   ]
  },
  {
   "cell_type": "code",
   "execution_count": 11,
   "metadata": {},
   "outputs": [
    {
     "name": "stdout",
     "output_type": "stream",
     "text": [
      "Initial weights -  Parameter containing:\n",
      "tensor([[-0.0331,  0.0240, -0.0035,  ...,  0.0055, -0.0351,  0.0087],\n",
      "        [-0.0224, -0.0248, -0.0231,  ..., -0.0043, -0.0271, -0.0085],\n",
      "        [-0.0128,  0.0125, -0.0017,  ..., -0.0285,  0.0348,  0.0146],\n",
      "        ...,\n",
      "        [-0.0032, -0.0321,  0.0308,  ...,  0.0216, -0.0254, -0.0337],\n",
      "        [ 0.0185, -0.0112, -0.0348,  ..., -0.0282, -0.0228, -0.0109],\n",
      "        [-0.0352,  0.0239, -0.0018,  ...,  0.0120,  0.0128,  0.0177]],\n",
      "       requires_grad=True)\n"
     ]
    }
   ],
   "source": [
    "print('Initial weights - ', model.fc1.weight)\n"
   ]
  },
  {
   "cell_type": "code",
   "execution_count": 12,
   "metadata": {},
   "outputs": [
    {
     "name": "stdout",
     "output_type": "stream",
     "text": [
      "Gradient - tensor([[-0.0004, -0.0004, -0.0004,  ..., -0.0004, -0.0004, -0.0004],\n",
      "        [ 0.0015,  0.0015,  0.0015,  ...,  0.0015,  0.0015,  0.0015],\n",
      "        [-0.0005, -0.0005, -0.0005,  ..., -0.0005, -0.0005, -0.0005],\n",
      "        ...,\n",
      "        [ 0.0001,  0.0001,  0.0001,  ...,  0.0001,  0.0001,  0.0001],\n",
      "        [ 0.0023,  0.0023,  0.0023,  ...,  0.0023,  0.0023,  0.0023],\n",
      "        [ 0.0011,  0.0011,  0.0011,  ...,  0.0011,  0.0011,  0.0011]])\n"
     ]
    }
   ],
   "source": [
    "images, labels = next(iter(trainloader))\n",
    "images.resize_(64, 784)\n",
    "\n",
    "# Limpiar los gradientes por que se acumulan\n",
    "optimizer.zero_grad()\n",
    "\n",
    "# Pase hacia adelante\n",
    "output = model.forward(images)\n",
    "# Perdida\n",
    "loss = criterion(output, labels)\n",
    "# Pase de reversa\n",
    "loss.backward()\n",
    "print('Gradient -', model.fc1.weight.grad)\n",
    "# Actualiza los pesos de acuerdo a un paso del optimizador\n",
    "optimizer.step()"
   ]
  },
  {
   "cell_type": "code",
   "execution_count": 13,
   "metadata": {},
   "outputs": [
    {
     "name": "stdout",
     "output_type": "stream",
     "text": [
      "Updated weights -  Parameter containing:\n",
      "tensor([[-0.0331,  0.0240, -0.0035,  ...,  0.0055, -0.0351,  0.0087],\n",
      "        [-0.0224, -0.0248, -0.0231,  ..., -0.0043, -0.0272, -0.0086],\n",
      "        [-0.0128,  0.0125, -0.0017,  ..., -0.0285,  0.0348,  0.0146],\n",
      "        ...,\n",
      "        [-0.0032, -0.0321,  0.0308,  ...,  0.0216, -0.0254, -0.0337],\n",
      "        [ 0.0185, -0.0112, -0.0348,  ..., -0.0282, -0.0228, -0.0109],\n",
      "        [-0.0352,  0.0239, -0.0019,  ...,  0.0120,  0.0128,  0.0177]],\n",
      "       requires_grad=True)\n"
     ]
    }
   ],
   "source": [
    "print('Updated weights - ', model.fc1.weight)"
   ]
  },
  {
   "attachments": {},
   "cell_type": "markdown",
   "metadata": {},
   "source": [
    "## Entrenamiento por épocas\n",
    "\n",
    "Ahora si, entrenemos la red por varias épocas. Para ello programaremos el algoritmo de  descenso por gradiente. De forma general éste funciona como sigue:\n",
    "\n",
    "- Para un número de *épocas*:\n",
    "    - Para cada *lote* en el conjunto de datos:\n",
    "        - Salida = Red predice usando el *lote*\n",
    "        - Calcular *pérdida* a partir de la *salida* y de las *etiquetas* reales\n",
    "        - Términos de error = Retropropagación a partir de la *pérdida*\n",
    "        - Actualizar pesos usando el optimizador\n",
    "        \n",
    "    "
   ]
  },
  {
   "cell_type": "code",
   "execution_count": 14,
   "metadata": {},
   "outputs": [],
   "source": [
    "# hiperparámetros\n",
    "# número de épocas\n",
    "epochs = 5\n",
    "tasa_de_aprendizaje = 0.003\n",
    "\n",
    "# TODO: redefine la configuración del optimizador usando la tasa de aprendizaje objetivo\n",
    "optimizer = optim.SGD(model.parameters(), lr = tasa_de_aprendizaje)"
   ]
  },
  {
   "cell_type": "code",
   "execution_count": 15,
   "metadata": {},
   "outputs": [
    {
     "name": "stdout",
     "output_type": "stream",
     "text": [
      "Epoch: 1/5...  Loss: 2.2954\n",
      "Epoch: 1/5...  Loss: 2.2722\n",
      "Epoch: 1/5...  Loss: 2.2475\n",
      "Epoch: 1/5...  Loss: 2.2287\n",
      "Epoch: 1/5...  Loss: 2.1972\n",
      "Epoch: 1/5...  Loss: 2.1777\n",
      "Epoch: 1/5...  Loss: 2.1469\n",
      "Epoch: 1/5...  Loss: 2.1173\n",
      "Epoch: 1/5...  Loss: 2.0766\n",
      "Epoch: 1/5...  Loss: 2.0507\n",
      "Epoch: 1/5...  Loss: 1.9894\n",
      "Epoch: 1/5...  Loss: 1.9565\n",
      "Epoch: 1/5...  Loss: 1.9002\n",
      "Epoch: 1/5...  Loss: 1.8410\n",
      "Epoch: 1/5...  Loss: 1.7768\n",
      "Epoch: 1/5...  Loss: 1.7330\n",
      "Epoch: 1/5...  Loss: 1.6453\n",
      "Epoch: 1/5...  Loss: 1.5879\n",
      "Epoch: 1/5...  Loss: 1.5216\n",
      "Epoch: 1/5...  Loss: 1.4362\n",
      "Epoch: 1/5...  Loss: 1.3917\n",
      "Epoch: 1/5...  Loss: 1.3023\n",
      "Epoch: 1/5...  Loss: 1.2678\n",
      "Epoch: 2/5...  Loss: 0.6583\n",
      "Epoch: 2/5...  Loss: 1.1592\n",
      "Epoch: 2/5...  Loss: 1.1019\n",
      "Epoch: 2/5...  Loss: 1.0300\n",
      "Epoch: 2/5...  Loss: 1.0056\n",
      "Epoch: 2/5...  Loss: 0.9686\n",
      "Epoch: 2/5...  Loss: 0.9178\n",
      "Epoch: 2/5...  Loss: 0.9006\n",
      "Epoch: 2/5...  Loss: 0.8757\n",
      "Epoch: 2/5...  Loss: 0.8602\n",
      "Epoch: 2/5...  Loss: 0.8199\n",
      "Epoch: 2/5...  Loss: 0.8090\n",
      "Epoch: 2/5...  Loss: 0.7956\n",
      "Epoch: 2/5...  Loss: 0.7545\n",
      "Epoch: 2/5...  Loss: 0.7316\n",
      "Epoch: 2/5...  Loss: 0.6998\n",
      "Epoch: 2/5...  Loss: 0.7019\n",
      "Epoch: 2/5...  Loss: 0.6756\n",
      "Epoch: 2/5...  Loss: 0.6647\n",
      "Epoch: 2/5...  Loss: 0.6622\n",
      "Epoch: 2/5...  Loss: 0.6265\n",
      "Epoch: 2/5...  Loss: 0.6046\n",
      "Epoch: 2/5...  Loss: 0.6255\n",
      "Epoch: 3/5...  Loss: 0.0652\n",
      "Epoch: 3/5...  Loss: 0.6030\n",
      "Epoch: 3/5...  Loss: 0.5768\n",
      "Epoch: 3/5...  Loss: 0.5851\n",
      "Epoch: 3/5...  Loss: 0.5599\n",
      "Epoch: 3/5...  Loss: 0.5463\n",
      "Epoch: 3/5...  Loss: 0.5448\n",
      "Epoch: 3/5...  Loss: 0.5598\n",
      "Epoch: 3/5...  Loss: 0.5119\n",
      "Epoch: 3/5...  Loss: 0.5240\n",
      "Epoch: 3/5...  Loss: 0.5342\n",
      "Epoch: 3/5...  Loss: 0.5094\n",
      "Epoch: 3/5...  Loss: 0.5104\n",
      "Epoch: 3/5...  Loss: 0.5043\n",
      "Epoch: 3/5...  Loss: 0.5226\n",
      "Epoch: 3/5...  Loss: 0.4913\n",
      "Epoch: 3/5...  Loss: 0.4797\n",
      "Epoch: 3/5...  Loss: 0.4993\n",
      "Epoch: 3/5...  Loss: 0.4483\n",
      "Epoch: 3/5...  Loss: 0.4840\n",
      "Epoch: 3/5...  Loss: 0.4987\n",
      "Epoch: 3/5...  Loss: 0.4604\n",
      "Epoch: 3/5...  Loss: 0.4594\n",
      "Epoch: 3/5...  Loss: 0.4594\n",
      "Epoch: 4/5...  Loss: 0.3101\n",
      "Epoch: 4/5...  Loss: 0.4386\n",
      "Epoch: 4/5...  Loss: 0.4548\n",
      "Epoch: 4/5...  Loss: 0.4506\n",
      "Epoch: 4/5...  Loss: 0.4576\n",
      "Epoch: 4/5...  Loss: 0.4330\n",
      "Epoch: 4/5...  Loss: 0.4087\n",
      "Epoch: 4/5...  Loss: 0.4492\n",
      "Epoch: 4/5...  Loss: 0.4191\n",
      "Epoch: 4/5...  Loss: 0.4658\n",
      "Epoch: 4/5...  Loss: 0.3949\n",
      "Epoch: 4/5...  Loss: 0.4527\n",
      "Epoch: 4/5...  Loss: 0.4333\n",
      "Epoch: 4/5...  Loss: 0.4301\n",
      "Epoch: 4/5...  Loss: 0.3854\n",
      "Epoch: 4/5...  Loss: 0.4056\n",
      "Epoch: 4/5...  Loss: 0.4179\n",
      "Epoch: 4/5...  Loss: 0.4262\n",
      "Epoch: 4/5...  Loss: 0.4366\n",
      "Epoch: 4/5...  Loss: 0.4171\n",
      "Epoch: 4/5...  Loss: 0.4276\n",
      "Epoch: 4/5...  Loss: 0.3826\n",
      "Epoch: 4/5...  Loss: 0.3970\n",
      "Epoch: 5/5...  Loss: 0.0833\n",
      "Epoch: 5/5...  Loss: 0.3871\n",
      "Epoch: 5/5...  Loss: 0.4103\n",
      "Epoch: 5/5...  Loss: 0.4037\n",
      "Epoch: 5/5...  Loss: 0.3985\n",
      "Epoch: 5/5...  Loss: 0.3709\n",
      "Epoch: 5/5...  Loss: 0.3894\n",
      "Epoch: 5/5...  Loss: 0.4008\n",
      "Epoch: 5/5...  Loss: 0.4023\n",
      "Epoch: 5/5...  Loss: 0.3971\n",
      "Epoch: 5/5...  Loss: 0.3721\n",
      "Epoch: 5/5...  Loss: 0.3763\n",
      "Epoch: 5/5...  Loss: 0.3951\n",
      "Epoch: 5/5...  Loss: 0.3954\n",
      "Epoch: 5/5...  Loss: 0.4009\n",
      "Epoch: 5/5...  Loss: 0.3910\n",
      "Epoch: 5/5...  Loss: 0.3592\n",
      "Epoch: 5/5...  Loss: 0.3475\n",
      "Epoch: 5/5...  Loss: 0.3556\n",
      "Epoch: 5/5...  Loss: 0.3801\n",
      "Epoch: 5/5...  Loss: 0.3740\n",
      "Epoch: 5/5...  Loss: 0.3864\n",
      "Epoch: 5/5...  Loss: 0.3695\n",
      "Epoch: 5/5...  Loss: 0.3618\n"
     ]
    }
   ],
   "source": [
    "print_every = 40\n",
    "steps = 0\n",
    "losses = []\n",
    "for e in range(epochs):\n",
    "    running_loss = 0\n",
    "    # en cada iteración del for cargamos un batch\n",
    "    for images, labels in iter(trainloader):\n",
    "        steps += 1\n",
    "        # Aplanar las imagenes de MNIST\n",
    "        images.resize_(images.size()[0], 784)\n",
    "        \n",
    "        # Reiniciar el gradiente\n",
    "        optimizer.zero_grad()\n",
    "        \n",
    "        # TODO: Pase frontal de la red\n",
    "        output = model.forward(images)\n",
    "        \n",
    "        # TODO: Estimar la perdida\n",
    "        loss = criterion(output, labels)\n",
    "        \n",
    "        # TODO: Backprogation\n",
    "        loss.backward()\n",
    "        # print('Gradient -', model.fc1.weight.grad)\n",
    "        \n",
    "        # TODO: Actualizamos los pesos\n",
    "        optimizer.step()\n",
    "        \n",
    "        \n",
    "        # Guardamos la perdida para control del entrenamiento\n",
    "        running_loss += loss.item()\n",
    "        \n",
    "        # imprimimos cada 40 lotes\n",
    "        if steps % print_every == 0:\n",
    "            print(\"Epoch: {}/{}... \".format(e+1, epochs),\n",
    "                  \"Loss: {:.4f}\".format(running_loss/print_every))\n",
    "            losses.append(running_loss/print_every)\n",
    "            \n",
    "            running_loss = 0"
   ]
  },
  {
   "attachments": {},
   "cell_type": "markdown",
   "metadata": {},
   "source": [
    "En este notebook, solo nos estamos fijando en la pérdida. Para considerar que el ejercicio es válido debemos mostrar que la pérdida va disminuyendo conforme avanzan las épocas.\n",
    "\n",
    "Finalmente, veamos que tan bien está clasificando la red con un ejemplo aleatorio. ¿Está haciendo predicciónes correctas?\n"
   ]
  },
  {
   "cell_type": "code",
   "execution_count": 20,
   "metadata": {},
   "outputs": [
    {
     "data": {
      "image/png": "[encoded data removed]",
      "text/plain": [
       "<Figure size 600x900 with 2 Axes>"
      ]
     },
     "metadata": {
      "image/png": {
       "height": 327,
       "width": 589
      }
     },
     "output_type": "display_data"
    }
   ],
   "source": [
    "images, labels = next(iter(trainloader))\n",
    "\n",
    "img = images[0].view(1, 784)\n",
    "# Turn off gradients to speed up this part\n",
    "with torch.no_grad():\n",
    "    logits = model.forward(img)\n",
    "\n",
    "# Output of the network are logits, need to take softmax for probabilities\n",
    "ps = F.softmax(logits, dim=1)\n",
    "helper.view_classify(img.view(1, 28, 28), ps)"
   ]
  },
  {
   "cell_type": "code",
   "execution_count": null,
   "metadata": {},
   "outputs": [],
   "source": []
  },
  {
   "cell_type": "markdown",
   "metadata": {},
   "source": [
    "## Gráfica de perdida:"
   ]
  },
  {
   "cell_type": "code",
   "execution_count": 17,
   "metadata": {},
   "outputs": [],
   "source": [
    "import matplotlib.pyplot as plt\n",
    "\n",
    "def graficate(losses, generations):\n",
    "    x = list(range(1, generations + 1))\n",
    "    plt.scatter(x, losses, color = \"blue\", label = \"losses\")\n",
    "    plt.plot(x, losses, color = 'blue')\n",
    "    plt.legend()\n",
    "    plt.xlabel('Epoch')\n",
    "    plt.ylabel('Loss')\n",
    "    plt.title('Training loss')\n",
    "    plt.show()"
   ]
  },
  {
   "cell_type": "code",
   "execution_count": 18,
   "metadata": {},
   "outputs": [
    {
     "data": {
      "image/png": "[encoded data removed]",
      "text/plain": [
       "<Figure size 640x480 with 1 Axes>"
      ]
     },
     "metadata": {
      "image/png": {
       "height": 454,
       "width": 569
      }
     },
     "output_type": "display_data"
    }
   ],
   "source": [
    "graficate(losses, len(losses))"
   ]
  },
  {
   "cell_type": "markdown",
   "metadata": {},
   "source": [
    "En la gráfica anterior podemos observar como disminuye el valor de perdida conforme avanzan las iteraciones en la red neuronal."
   ]
  },
  {
   "cell_type": "markdown",
   "metadata": {},
   "source": [
    "## Conclusión:\n",
    "\n",
    "Sigue siendo impresionante el comportamiento de una red neuronal al aprender de los datos de entrada en cada iteración con ayuda del paso frontal y del mecanismo de retropropagación, para reducir cada vez más el error y mejorar así su precisión. Además, el uso de herramientas facilita bastante el manejo de operaciones matriciales, ya que cuenta con funciones para poner en marcha cualquier arquitectura de forma rápida, así como su entrenamiento.\n",
    "\n",
    "En la práctica realizada se pudo aplicar esta librería y sus funciones ya hechas para entrenar una red que clasifique el número de una imagen de entrada, además de graficar el valor de pérdida que genera la red con cada iteración, validando su funcionamiento.\n",
    "\n",
    "Finalmente, usando estas herramientas se ahorrará más tiempo y esfuerzo en entrenar arquitecturas de redes neuronales más complejas para resolver problemas aún más complejos.\n",
    "\n"
   ]
  },
  {
   "cell_type": "markdown",
   "metadata": {},
   "source": [
    "## Referencias\n",
    "\n",
    "[1] Udacity Computer Vision Nanodegree\n",
    "\n",
    "[2] Pytorch https://pytorch.org/"
   ]
  },
  {
   "cell_type": "code",
   "execution_count": null,
   "metadata": {},
   "outputs": [],
   "source": []
  }
 ],
 "metadata": {
  "kernelspec": {
   "display_name": "Python 3 (ipykernel)",
   "language": "python",
   "name": "python3"
  },
  "language_info": {
   "codemirror_mode": {
    "name": "ipython",
    "version": 3
   },
   "file_extension": ".py",
   "mimetype": "text/x-python",
   "name": "python",
   "nbconvert_exporter": "python",
   "pygments_lexer": "ipython3",
   "version": "3.9.18"
  },
  "vscode": {
   "interpreter": {
    "hash": "e22d029f5570ef7df543599926afc42bb090457ba5a887f8aae20fd6018d0da0"
   }
  },
  "widgets": {
   "state": {},
   "version": "1.1.2"
  }
 },
 "nbformat": 4,
 "nbformat_minor": 4
}
